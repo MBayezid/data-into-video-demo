{
  "nbformat": 4,
  "nbformat_minor": 0,
  "metadata": {
    "colab": {
      "provenance": [],
      "collapsed_sections": [
        "_JFQnIvKG30Z",
        "Kdrsl3SXJsqP",
        "wBo-ovboN4yg",
        "yOPS-HlmOM83",
        "gNpIzR2qO3Ii",
        "ouEmG2tiMLYe",
        "UadPoCk3MiaF",
        "9vTtbmgAJvQ7"
      ],
      "include_colab_link": true
    },
    "kernelspec": {
      "name": "python3",
      "display_name": "Python 3"
    },
    "language_info": {
      "name": "python"
    }
  },
  "cells": [
    {
      "cell_type": "markdown",
      "metadata": {
        "id": "view-in-github",
        "colab_type": "text"
      },
      "source": [
        "<a href=\"https://colab.research.google.com/github/MBayezid/data-into-video-demo/blob/main/data_convertion(Main).ipynb\" target=\"_parent\"><img src=\"https://colab.research.google.com/assets/colab-badge.svg\" alt=\"Open In Colab\"/></a>"
      ]
    },
    {
      "cell_type": "markdown",
      "source": [
        "## 🧩 How It Works (Simplified)\n",
        "\n",
        "### 1. **Your Files → ZIP Package**  \n",
        "   *\"Bundles everything like a digital suitcase\"*\n",
        "\n",
        "### 2. **ZIP → Pixel Art**  \n",
        "   *\"Converts 1s/0s to colorful pixels (think Minecraft data art!)\"*\n",
        "\n",
        "### 3. **Pixels → Video**  \n",
        "   *\"Makes a 'slideshow' that secretly holds your files\"*\n",
        "\n",
        "### 4. **Video → Original Files**  \n",
        "   *\"Reverse the magic to get your stuff back!\"*\n",
        "\n",
        "---\n",
        "\n",
        "## 🚀 Try It Yourself\n",
        "\n",
        "### Encode Files (3 Lines!)\n",
        "```python\n",
        "# 1. Choose files\n",
        "my_files = [\"cat.jpg\", \"diary.txt\"]\n",
        "\n",
        "# 2. Make video\n",
        "files_to_video(my_files, \"secret_cat_video.avi\")\n",
        "\n",
        "# 3. Upload to YouTube!\n",
        "```\n",
        "\n",
        "### Decode Anytime\n",
        "```python\n",
        "# 1. Download video\n",
        "# 2. Run this:\n",
        "video_to_files(\"secret_cat_video.avi\", \"recovered_files\")\n",
        "\n",
        "```"
      ],
      "metadata": {
        "id": "zudyVtnAkvEL"
      }
    },
    {
      "cell_type": "markdown",
      "source": [
        "\n",
        "\n",
        "---\n",
        "\n",
        "\n",
        "\n",
        "---\n",
        "\n"
      ],
      "metadata": {
        "id": "FgzuD66Wi_HL"
      }
    },
    {
      "cell_type": "markdown",
      "source": [
        "# ========== Imports ========== #"
      ],
      "metadata": {
        "id": "_JFQnIvKG30Z"
      }
    },
    {
      "cell_type": "code",
      "source": [
        "# !pip uninstall ffmpeg ffmpeg-python -y\n",
        "!pip install ffmpeg-python\n",
        "# !pip install PIL"
      ],
      "metadata": {
        "colab": {
          "base_uri": "https://localhost:8080/"
        },
        "id": "mdUbqwIbtHgi",
        "outputId": "1f6e8f89-a257-4352-90c2-178a4ba4d0ea"
      },
      "execution_count": null,
      "outputs": [
        {
          "output_type": "stream",
          "name": "stdout",
          "text": [
            "Collecting ffmpeg-python\n",
            "  Downloading ffmpeg_python-0.2.0-py3-none-any.whl.metadata (1.7 kB)\n",
            "Requirement already satisfied: future in /usr/local/lib/python3.11/dist-packages (from ffmpeg-python) (1.0.0)\n",
            "Downloading ffmpeg_python-0.2.0-py3-none-any.whl (25 kB)\n",
            "Installing collected packages: ffmpeg-python\n",
            "Successfully installed ffmpeg-python-0.2.0\n"
          ]
        }
      ]
    },
    {
      "cell_type": "code",
      "source": [
        "import os\n",
        "import zipfile\n",
        "import numpy as np\n",
        "from PIL import Image\n",
        "import ffmpeg\n"
      ],
      "metadata": {
        "id": "XxB7y-XXHcPs"
      },
      "execution_count": null,
      "outputs": []
    },
    {
      "cell_type": "markdown",
      "source": [
        "# ========== ENCODING ========== #"
      ],
      "metadata": {
        "id": "Kdrsl3SXJsqP"
      }
    },
    {
      "cell_type": "markdown",
      "source": [
        "## === 1. Import Files === ##"
      ],
      "metadata": {
        "id": "wBo-ovboN4yg"
      }
    },
    {
      "cell_type": "code",
      "source": [
        "from google.colab import files\n",
        "\n",
        "def select_files():\n",
        "    \"\"\"\n",
        "    Prompts the user to select or create a directory to store uploaded files.\n",
        "    Returns a list of selected file paths.\n",
        "    \"\"\"\n",
        "\n",
        "    # Get user input for directory path\n",
        "    while True:\n",
        "        uploaded_dir = input(\"Enter directory to store files (or leave empty): \")\n",
        "\n",
        "        # Use default if input is empty\n",
        "        if not uploaded_dir:\n",
        "            uploaded_dir = \"uploaded_files\"\n",
        "            break\n",
        "\n",
        "\n",
        "        # Check if directory exists, create if not\n",
        "        if not os.path.exists(uploaded_dir):\n",
        "            create_dir = input(f\"Directory '{uploaded_dir}' does not exist. Create it? (y/n): \")\n",
        "            if create_dir.lower() == 'y' or create_dir.lower()=='':\n",
        "\n",
        "                break\n",
        "            else:\n",
        "                print(\"Please enter a valid directory or choose to create one.\")\n",
        "        else:\n",
        "            break\n",
        "\n",
        "    # Change to the selected directory\n",
        "    os.makedirs(uploaded_dir, exist_ok=True)\n",
        "    # os.chdir(uploaded_dir)\n",
        "    print(f\"Uploading to: {uploaded_dir}\")\n",
        "\n",
        "    # Upload files\n",
        "    print(\"Select files to upload:\")\n",
        "    uploaded = files.upload(target_dir = uploaded_dir)\n",
        "    return list(uploaded.keys())"
      ],
      "metadata": {
        "id": "pcJCkqvG6Czh"
      },
      "execution_count": null,
      "outputs": []
    },
    {
      "cell_type": "markdown",
      "source": [
        "## === 2. Files ->  ZIP === ##"
      ],
      "metadata": {
        "id": "yOPS-HlmOM83"
      }
    },
    {
      "cell_type": "code",
      "source": [
        "def create_archive(file_paths, ziped_out_dir=\"temp_archives\", zip_filename=\"original.zip\"):\n",
        "  \"\"\"\n",
        "  Zips multiple files into a single zip archive.\n",
        "\n",
        "  Args:\n",
        "    file_paths: A list of file paths to be zipped.\n",
        "    zip_filename: The name of the output zip file (including .zip extension).\n",
        "    ziped_out_dir: The directory where the zip file will be saved.\n",
        "  \"\"\"\n",
        "  try:\n",
        "    if not zip_filename.endswith(\".zip\"):\n",
        "      zip_filename = zip_filename + \".zip\"\n",
        "\n",
        "    full_zip_path = os.path.join(ziped_out_dir, zip_filename)\n",
        "    os.makedirs(ziped_out_dir, exist_ok=True)\n",
        "\n",
        "    with zipfile.ZipFile(full_zip_path, 'w', zipfile.ZIP_DEFLATED) as zipf:\n",
        "      for file_path in file_paths:\n",
        "        if os.path.exists(file_path):\n",
        "          zipf.write(file_path, arcname=os.path.basename(file_path))\n",
        "        else:\n",
        "          print(f\"Warning: File not found: {file_path}\")\n",
        "    print(f\"Successfully created {full_zip_path}\")\n",
        "    return full_zip_path\n",
        "\n",
        "  except FileNotFoundError:\n",
        "    print(f\"Error: One or more files not found.\")\n",
        "  except Exception as e:\n",
        "    print(f\"An error occurred: {e}\")\n"
      ],
      "metadata": {
        "id": "oPZqHvKU9e0u"
      },
      "execution_count": null,
      "outputs": []
    },
    {
      "cell_type": "markdown",
      "source": [
        "## === 3. ZIP -> Images/Frames  === ##"
      ],
      "metadata": {
        "id": "wg1icQjKObZL"
      }
    },
    {
      "cell_type": "code",
      "source": [
        "def create_frames(data, frame_size):\n",
        "    \"\"\"Convert binary to RGB frames with padding\"\"\"\n",
        "    bytes_per_frame = frame_size[0] * frame_size[1] * 3\n",
        "    padding = (bytes_per_frame - (len(data) % bytes_per_frame)) % bytes_per_frame\n",
        "    padded_data = data + b'\\x00' * padding\n",
        "    return [\n",
        "        np.frombuffer(padded_data[i:i+bytes_per_frame], dtype=np.uint8)\n",
        "        for i in range(0, len(padded_data), bytes_per_frame)\n",
        "    ]\n"
      ],
      "metadata": {
        "id": "HKAAAkBMMEO1"
      },
      "execution_count": null,
      "outputs": []
    },
    {
      "cell_type": "markdown",
      "source": [
        "## === 4. Frames -> Video  === ##"
      ],
      "metadata": {
        "id": "gNpIzR2qO3Ii"
      }
    },
    {
      "cell_type": "code",
      "source": [
        "def encode_video(frames, output_path, frame_size):\n",
        "    \"\"\"Lossless video encoding with error handling\"\"\"\n",
        "    try:\n",
        "        process = (\n",
        "            ffmpeg\n",
        "            .input('pipe:', format='rawvideo', pix_fmt='rgb24',\n",
        "                  s=f'{frame_size[0]}x{frame_size[1]}')\n",
        "            .output(output_path, vcodec='ffv1')\n",
        "            .overwrite_output()\n",
        "            .run_async(pipe_stdin=True)\n",
        "        )\n",
        "\n",
        "        for frame in frames:\n",
        "            process.stdin.write(frame.tobytes())\n",
        "\n",
        "        process.stdin.close()\n",
        "        process.wait()\n",
        "\n",
        "    except ffmpeg.Error as e:\n",
        "        print(f\"FFmpeg error: {e.stderr.decode()}\")\n",
        "        raise"
      ],
      "metadata": {
        "id": "aaEOfGc-MBPN"
      },
      "execution_count": null,
      "outputs": []
    },
    {
      "cell_type": "markdown",
      "source": [
        "# ========== DECODING ========== #"
      ],
      "metadata": {
        "id": "ouEmG2tiMLYe"
      }
    },
    {
      "cell_type": "markdown",
      "source": [
        "## === 4. Video -> Frames  === ##"
      ],
      "metadata": {
        "id": "AeFKg4MWSUms"
      }
    },
    {
      "cell_type": "code",
      "source": [
        "def extract_frames(input_video):\n",
        "    \"\"\"Decode video to frames\"\"\"\n",
        "    probe = ffmpeg.probe(input_video)\n",
        "    video_info = next(s for s in probe['streams'] if s['codec_type'] == 'video')\n",
        "\n",
        "    width = int(video_info['width'])\n",
        "    height = int(video_info['height'])\n",
        "    frame_size = width * height * 3  # RGB (3 channels)\n",
        "\n",
        "    out, _ = (\n",
        "        ffmpeg\n",
        "        .input(input_video)\n",
        "        .output('pipe:', format='rawvideo', pix_fmt='rgb24')\n",
        "        .run(capture_stdout=True)\n",
        "    )\n",
        "\n",
        "    return [\n",
        "        np.frombuffer(out[i:i+frame_size], dtype=np.uint8)\n",
        "        for i in range(0, len(out), frame_size)\n",
        "    ]\n"
      ],
      "metadata": {
        "id": "u3nN5iZPMLfx"
      },
      "execution_count": null,
      "outputs": []
    },
    {
      "cell_type": "markdown",
      "source": [
        "## === 3.Frames -> Ziip === ##"
      ],
      "metadata": {
        "id": "4bLXDwbpTkhK"
      }
    },
    {
      "cell_type": "code",
      "source": [
        "def extract_archive(zip_path, output_dir=\"extracted_files\"):\n",
        "    \"\"\"\n",
        "    Extracts a zip archive with comprehensive error handling\n",
        "\n",
        "    Args:\n",
        "        zip_path (str): Path to zip file\n",
        "        output_dir (str): Directory to extract files to\n",
        "\n",
        "    Returns:\n",
        "        bool: True if successful, False otherwise\n",
        "    \"\"\"\n",
        "    try:\n",
        "        if not os.path.exists(zip_path):\n",
        "            raise FileNotFoundError(f\"Zip file not found: {zip_path}\")\n",
        "\n",
        "        os.makedirs(output_dir, exist_ok=True)\n",
        "\n",
        "        with zipfile.ZipFile(zip_path, 'r') as zipf:\n",
        "            zipf.extractall(output_dir)\n",
        "\n",
        "        return True\n",
        "\n",
        "    except zipfile.BadZipFile:\n",
        "        print(\"Error: File is not a valid ZIP archive\")\n",
        "    except Exception as e:\n",
        "        print(f\"Extraction failed: {str(e)}\")\n",
        "\n",
        "    return False"
      ],
      "metadata": {
        "id": "nB0tviJ4JW90"
      },
      "execution_count": null,
      "outputs": []
    },
    {
      "cell_type": "markdown",
      "source": [
        "# ========== CORE WORKFLOWS ========== #"
      ],
      "metadata": {
        "id": "UadPoCk3MiaF"
      }
    },
    {
      "cell_type": "code",
      "source": [
        "# ========== ENCODING WORKFLOWS ========== #\n",
        "def files_to_video(output_video='data_video.avi', frame_size=(640, 480)):\n",
        "    \"\"\"Main encoding workflow with size header\"\"\"\n",
        "    input_files = select_files()\n",
        "    zip_path = create_archive(input_files)\n",
        "\n",
        "    with open(zip_path, 'rb') as f:\n",
        "        original_data = f.read()\n",
        "\n",
        "    # Add size header\n",
        "    header = len(original_data).to_bytes(4, 'big')\n",
        "    data_with_header = header + original_data\n",
        "\n",
        "    frames = create_frames(data_with_header, frame_size)\n",
        "    encode_video(frames, output_video, frame_size)\n",
        "\n",
        "\n",
        "# ========== DECODING WORKFLOWS ========== #\n",
        "def video_to_files(input_video, output_dir):\n",
        "    \"\"\"Main decoding workflow with size parsing\"\"\"\n",
        "    frames = extract_frames(input_video)\n",
        "    all_data = b''.join([frame.tobytes() for frame in frames])\n",
        "\n",
        "    # Extract original size from header\n",
        "    data_size = int.from_bytes(all_data[:4], 'big')\n",
        "    original_data = all_data[4:4+data_size]\n",
        "\n",
        "    zip_path = os.path.join(output_dir, 'output.zip')\n",
        "    with open(zip_path, 'wb') as f:\n",
        "        f.write(original_data)\n",
        "\n",
        "    extract_archive(zip_path, output_dir)"
      ],
      "metadata": {
        "id": "RhECP5eaMd-N"
      },
      "execution_count": null,
      "outputs": []
    },
    {
      "cell_type": "markdown",
      "source": [
        "# ========== USAGE ========== #"
      ],
      "metadata": {
        "id": "9vTtbmgAJvQ7"
      }
    },
    {
      "cell_type": "code",
      "source": [
        "# Encode\n",
        "files_to_video(frame_size=(256, 256))"
      ],
      "metadata": {
        "colab": {
          "base_uri": "https://localhost:8080/",
          "height": 1000
        },
        "id": "yHLKFJD3NcFW",
        "outputId": "f9543b24-f7fc-4e6c-c42b-50ca2a3ba3a5"
      },
      "execution_count": null,
      "outputs": [
        {
          "output_type": "stream",
          "name": "stdout",
          "text": [
            "Enter directory to store files (or leave empty): \n",
            "Uploading to: uploaded_files\n",
            "Select files to upload:\n"
          ]
        },
        {
          "output_type": "display_data",
          "data": {
            "text/plain": [
              "<IPython.core.display.HTML object>"
            ],
            "text/html": [
              "\n",
              "     <input type=\"file\" id=\"files-4d1dbfce-5153-4cd6-bb0a-defaa7e65f5e\" name=\"files[]\" multiple disabled\n",
              "        style=\"border:none\" />\n",
              "     <output id=\"result-4d1dbfce-5153-4cd6-bb0a-defaa7e65f5e\">\n",
              "      Upload widget is only available when the cell has been executed in the\n",
              "      current browser session. Please rerun this cell to enable.\n",
              "      </output>\n",
              "      <script>// Copyright 2017 Google LLC\n",
              "//\n",
              "// Licensed under the Apache License, Version 2.0 (the \"License\");\n",
              "// you may not use this file except in compliance with the License.\n",
              "// You may obtain a copy of the License at\n",
              "//\n",
              "//      http://www.apache.org/licenses/LICENSE-2.0\n",
              "//\n",
              "// Unless required by applicable law or agreed to in writing, software\n",
              "// distributed under the License is distributed on an \"AS IS\" BASIS,\n",
              "// WITHOUT WARRANTIES OR CONDITIONS OF ANY KIND, either express or implied.\n",
              "// See the License for the specific language governing permissions and\n",
              "// limitations under the License.\n",
              "\n",
              "/**\n",
              " * @fileoverview Helpers for google.colab Python module.\n",
              " */\n",
              "(function(scope) {\n",
              "function span(text, styleAttributes = {}) {\n",
              "  const element = document.createElement('span');\n",
              "  element.textContent = text;\n",
              "  for (const key of Object.keys(styleAttributes)) {\n",
              "    element.style[key] = styleAttributes[key];\n",
              "  }\n",
              "  return element;\n",
              "}\n",
              "\n",
              "// Max number of bytes which will be uploaded at a time.\n",
              "const MAX_PAYLOAD_SIZE = 100 * 1024;\n",
              "\n",
              "function _uploadFiles(inputId, outputId) {\n",
              "  const steps = uploadFilesStep(inputId, outputId);\n",
              "  const outputElement = document.getElementById(outputId);\n",
              "  // Cache steps on the outputElement to make it available for the next call\n",
              "  // to uploadFilesContinue from Python.\n",
              "  outputElement.steps = steps;\n",
              "\n",
              "  return _uploadFilesContinue(outputId);\n",
              "}\n",
              "\n",
              "// This is roughly an async generator (not supported in the browser yet),\n",
              "// where there are multiple asynchronous steps and the Python side is going\n",
              "// to poll for completion of each step.\n",
              "// This uses a Promise to block the python side on completion of each step,\n",
              "// then passes the result of the previous step as the input to the next step.\n",
              "function _uploadFilesContinue(outputId) {\n",
              "  const outputElement = document.getElementById(outputId);\n",
              "  const steps = outputElement.steps;\n",
              "\n",
              "  const next = steps.next(outputElement.lastPromiseValue);\n",
              "  return Promise.resolve(next.value.promise).then((value) => {\n",
              "    // Cache the last promise value to make it available to the next\n",
              "    // step of the generator.\n",
              "    outputElement.lastPromiseValue = value;\n",
              "    return next.value.response;\n",
              "  });\n",
              "}\n",
              "\n",
              "/**\n",
              " * Generator function which is called between each async step of the upload\n",
              " * process.\n",
              " * @param {string} inputId Element ID of the input file picker element.\n",
              " * @param {string} outputId Element ID of the output display.\n",
              " * @return {!Iterable<!Object>} Iterable of next steps.\n",
              " */\n",
              "function* uploadFilesStep(inputId, outputId) {\n",
              "  const inputElement = document.getElementById(inputId);\n",
              "  inputElement.disabled = false;\n",
              "\n",
              "  const outputElement = document.getElementById(outputId);\n",
              "  outputElement.innerHTML = '';\n",
              "\n",
              "  const pickedPromise = new Promise((resolve) => {\n",
              "    inputElement.addEventListener('change', (e) => {\n",
              "      resolve(e.target.files);\n",
              "    });\n",
              "  });\n",
              "\n",
              "  const cancel = document.createElement('button');\n",
              "  inputElement.parentElement.appendChild(cancel);\n",
              "  cancel.textContent = 'Cancel upload';\n",
              "  const cancelPromise = new Promise((resolve) => {\n",
              "    cancel.onclick = () => {\n",
              "      resolve(null);\n",
              "    };\n",
              "  });\n",
              "\n",
              "  // Wait for the user to pick the files.\n",
              "  const files = yield {\n",
              "    promise: Promise.race([pickedPromise, cancelPromise]),\n",
              "    response: {\n",
              "      action: 'starting',\n",
              "    }\n",
              "  };\n",
              "\n",
              "  cancel.remove();\n",
              "\n",
              "  // Disable the input element since further picks are not allowed.\n",
              "  inputElement.disabled = true;\n",
              "\n",
              "  if (!files) {\n",
              "    return {\n",
              "      response: {\n",
              "        action: 'complete',\n",
              "      }\n",
              "    };\n",
              "  }\n",
              "\n",
              "  for (const file of files) {\n",
              "    const li = document.createElement('li');\n",
              "    li.append(span(file.name, {fontWeight: 'bold'}));\n",
              "    li.append(span(\n",
              "        `(${file.type || 'n/a'}) - ${file.size} bytes, ` +\n",
              "        `last modified: ${\n",
              "            file.lastModifiedDate ? file.lastModifiedDate.toLocaleDateString() :\n",
              "                                    'n/a'} - `));\n",
              "    const percent = span('0% done');\n",
              "    li.appendChild(percent);\n",
              "\n",
              "    outputElement.appendChild(li);\n",
              "\n",
              "    const fileDataPromise = new Promise((resolve) => {\n",
              "      const reader = new FileReader();\n",
              "      reader.onload = (e) => {\n",
              "        resolve(e.target.result);\n",
              "      };\n",
              "      reader.readAsArrayBuffer(file);\n",
              "    });\n",
              "    // Wait for the data to be ready.\n",
              "    let fileData = yield {\n",
              "      promise: fileDataPromise,\n",
              "      response: {\n",
              "        action: 'continue',\n",
              "      }\n",
              "    };\n",
              "\n",
              "    // Use a chunked sending to avoid message size limits. See b/62115660.\n",
              "    let position = 0;\n",
              "    do {\n",
              "      const length = Math.min(fileData.byteLength - position, MAX_PAYLOAD_SIZE);\n",
              "      const chunk = new Uint8Array(fileData, position, length);\n",
              "      position += length;\n",
              "\n",
              "      const base64 = btoa(String.fromCharCode.apply(null, chunk));\n",
              "      yield {\n",
              "        response: {\n",
              "          action: 'append',\n",
              "          file: file.name,\n",
              "          data: base64,\n",
              "        },\n",
              "      };\n",
              "\n",
              "      let percentDone = fileData.byteLength === 0 ?\n",
              "          100 :\n",
              "          Math.round((position / fileData.byteLength) * 100);\n",
              "      percent.textContent = `${percentDone}% done`;\n",
              "\n",
              "    } while (position < fileData.byteLength);\n",
              "  }\n",
              "\n",
              "  // All done.\n",
              "  yield {\n",
              "    response: {\n",
              "      action: 'complete',\n",
              "    }\n",
              "  };\n",
              "}\n",
              "\n",
              "scope.google = scope.google || {};\n",
              "scope.google.colab = scope.google.colab || {};\n",
              "scope.google.colab._files = {\n",
              "  _uploadFiles,\n",
              "  _uploadFilesContinue,\n",
              "};\n",
              "})(self);\n",
              "</script> "
            ]
          },
          "metadata": {}
        },
        {
          "output_type": "stream",
          "name": "stdout",
          "text": [
            "Saving How to get started with Drive.pdf to uploaded_files/How to get started with Drive.pdf\n",
            "Saving DSC_0813.JPG to uploaded_files/DSC_0813.JPG\n",
            "Saving MUKTIJUDDH- JAHANGIR HOSSAIN.doc to uploaded_files/MUKTIJUDDH- JAHANGIR HOSSAIN.doc\n",
            "Saving Ahahara of Hindu Leaders.docx to uploaded_files/Ahahara of Hindu Leaders.docx\n",
            "Saving AOUDIT  REPORT.docx to uploaded_files/AOUDIT  REPORT.docx\n",
            "Saving 2096.doc to uploaded_files/2096.doc\n",
            "Saving image2.jpg to uploaded_files/image2.jpg\n",
            "Saving image1.jpg to uploaded_files/image1.jpg\n",
            "Saving image3.jpg to uploaded_files/image3.jpg\n",
            "Saving New data plan.jpg to uploaded_files/New data plan.jpg\n",
            "Saving TEACHAR NAME & MOBIL.doc to uploaded_files/TEACHAR NAME & MOBIL.doc\n",
            "Saving BANGLA.docx to uploaded_files/BANGLA.docx\n",
            "Saving Saroni .docx to uploaded_files/Saroni .docx\n",
            "Saving IMG_20170808_0001.pdf to uploaded_files/IMG_20170808_0001.pdf\n",
            "Saving short stories.doc to uploaded_files/short stories.doc\n",
            "Saving অ্যাসাইনমেন্ট (সংশোধিত), মোল্লাহাট, বাগেরহাট.docx to uploaded_files/অ্যাসাইনমেন্ট (সংশোধিত), মোল্লাহাট, বাগেরহাট.docx\n",
            "Saving ১৯৭১ সালের দিন-তারিখ.docx to uploaded_files/১৯৭১ সালের দিন-তারিখ.docx\n",
            "Saving IMG_20180709_154637_596.JPG to uploaded_files/IMG_20180709_154637_596.JPG\n",
            "Saving received_649503922482789.jpeg to uploaded_files/received_649503922482789.jpeg\n",
            "Saving Registration_form_1000227451.pdf to uploaded_files/Registration_form_1000227451.pdf\n",
            "Saving Untitled document(2).docx to uploaded_files/Untitled document(2).docx\n",
            "Saving Untitled document(1).docx to uploaded_files/Untitled document(1).docx\n",
            "Saving Wedding.pptx to uploaded_files/Wedding.pptx\n",
            "Saving Resume.docx to uploaded_files/Resume.docx\n",
            "Saving Untitled document.docx to uploaded_files/Untitled document.docx\n",
            "Saving 1. Bangla 1_HSC 2022.pdf to uploaded_files/1. Bangla 1_HSC 2022.pdf\n",
            "Saving 1. Bangla 1_HSC 2022.docx to uploaded_files/1. Bangla 1_HSC 2022.docx\n",
            "Successfully created temp_archives/original.zip\n"
          ]
        }
      ]
    },
    {
      "cell_type": "code",
      "source": [
        "# Decode\n",
        "video_to_files('data_video.avi', 'temp_archives')"
      ],
      "metadata": {
        "id": "P5jx5JvZJb8A"
      },
      "execution_count": null,
      "outputs": []
    },
    {
      "cell_type": "code",
      "source": [
        "# Compare original and extracted files\n",
        "original = open('temp_archives/original.zip', 'rb').read()\n",
        "extracted = open('temp_archives/output.zip', 'rb').read()\n",
        "print(\"Match:\", original == extracted)  # Should print True"
      ],
      "metadata": {
        "colab": {
          "base_uri": "https://localhost:8080/"
        },
        "id": "9-NkdRhmKfDf",
        "outputId": "4dfde344-36ad-4922-bbdb-8bd55edd141f"
      },
      "execution_count": null,
      "outputs": [
        {
          "output_type": "stream",
          "name": "stdout",
          "text": [
            "Match: True\n"
          ]
        }
      ]
    }
  ]
}